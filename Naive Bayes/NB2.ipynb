{
 "metadata": {
  "language_info": {
   "codemirror_mode": {
    "name": "ipython",
    "version": 3
   },
   "file_extension": ".py",
   "mimetype": "text/x-python",
   "name": "python",
   "nbconvert_exporter": "python",
   "pygments_lexer": "ipython3",
   "version": "3.8.5-final"
  },
  "orig_nbformat": 2,
  "kernelspec": {
   "name": "python3",
   "display_name": "Python 3",
   "language": "python"
  }
 },
 "nbformat": 4,
 "nbformat_minor": 2,
 "cells": [
  {
   "cell_type": "code",
   "execution_count": 2,
   "metadata": {},
   "outputs": [
    {
     "output_type": "stream",
     "name": "stdout",
     "text": [
      "Linhas x Colunas (5572, 2)\n"
     ]
    },
    {
     "output_type": "execute_result",
     "data": {
      "text/plain": [
       "  Status                                           Mensagem\n",
       "0    ham  Go until jurong point, crazy.. Available only ...\n",
       "1    ham                      Ok lar... Joking wif u oni...\n",
       "2   spam  Free entry in 2 a wkly comp to win FA Cup fina...\n",
       "3    ham  U dun say so early hor... U c already then say...\n",
       "4    ham  Nah I don't think he goes to usf, he lives aro..."
      ],
      "text/html": "<div>\n<style scoped>\n    .dataframe tbody tr th:only-of-type {\n        vertical-align: middle;\n    }\n\n    .dataframe tbody tr th {\n        vertical-align: top;\n    }\n\n    .dataframe thead th {\n        text-align: right;\n    }\n</style>\n<table border=\"1\" class=\"dataframe\">\n  <thead>\n    <tr style=\"text-align: right;\">\n      <th></th>\n      <th>Status</th>\n      <th>Mensagem</th>\n    </tr>\n  </thead>\n  <tbody>\n    <tr>\n      <th>0</th>\n      <td>ham</td>\n      <td>Go until jurong point, crazy.. Available only ...</td>\n    </tr>\n    <tr>\n      <th>1</th>\n      <td>ham</td>\n      <td>Ok lar... Joking wif u oni...</td>\n    </tr>\n    <tr>\n      <th>2</th>\n      <td>spam</td>\n      <td>Free entry in 2 a wkly comp to win FA Cup fina...</td>\n    </tr>\n    <tr>\n      <th>3</th>\n      <td>ham</td>\n      <td>U dun say so early hor... U c already then say...</td>\n    </tr>\n    <tr>\n      <th>4</th>\n      <td>ham</td>\n      <td>Nah I don't think he goes to usf, he lives aro...</td>\n    </tr>\n  </tbody>\n</table>\n</div>"
     },
     "metadata": {},
     "execution_count": 2
    }
   ],
   "source": [
    "import pandas as pd # manipulação de dados e data frames\n",
    "import re # regular expressions usamos para retirar a pontuação da mensagem\n",
    "\n",
    "## DATA SETS ---------\n",
    "smsData = pd.read_csv(\"spam.csv\", encoding = \"latin-1\", usecols=[\"v1\", \"v2\"])## importa o data set como um data-frame, usa o latin-1 com decoding para ler o ficheiro e seleciona as colunas v1 e v2 como as unicas a ser usadas (o ficheiro tem mais 3 colunas mas vazias) \n",
    "\n",
    "## TRANSFORMS\n",
    "smsData.columns = [\"Status\", \"Mensagem\"] #renomeia os hearders das colunas\n",
    "\n",
    "print(\"Linhas x Colunas\", smsData.shape) #print do tamanho da matriz\n",
    "smsData.head()  # print das primeiras 5 linhas da mat"
   ]
  },
  {
   "cell_type": "code",
   "execution_count": 3,
   "metadata": {},
   "outputs": [
    {
     "output_type": "stream",
     "name": "stdout",
     "text": [
      "Distribuição\nham     4825\nspam     747\nName: Status, dtype: int64\n\nFrequência Relativa\nham     0.865937\nspam    0.134063\nName: Status, dtype: float64\n"
     ]
    }
   ],
   "source": [
    "print(\"Distribuição\")\n",
    "print(smsData['Status'].value_counts()) #Quantidade da ham x spam na tabela\n",
    "print(\"\")\n",
    "print(\"Frequência Relativa\")\n",
    "print(smsData['Status'].value_counts(normalize=True)) #Frequencia relativa"
   ]
  },
  {
   "cell_type": "code",
   "execution_count": 4,
   "metadata": {},
   "outputs": [
    {
     "output_type": "stream",
     "name": "stdout",
     "text": [
      "Dados de Treino\nham     3853\nspam     605\nName: Status, dtype: int64\n\nham     0.864289\nspam    0.135711\nName: Status, dtype: float64\n\nDados de Teste\nham     972\nspam    142\nName: Status, dtype: int64\n\nham     0.872531\nspam    0.127469\nName: Status, dtype: float64\n"
     ]
    }
   ],
   "source": [
    "#Divisão em Sets\n",
    "randomSample = smsData.sample(frac=1, random_state=666) # Faz suffle da tabela - frac é a fração dos dados a usar (0,0 a 1,0) - random-state = (int) é a seed que o sistema vai usar como \"fator de entropia\" para gerar o \"random\"\n",
    "\n",
    "# Definir o percentagem de dados a usar (0 a 1)\n",
    "sampleSize = round(len(randomSample) * 0.8)\n",
    "\n",
    "# Criação do grupo de teste e treino\n",
    "trainGroup = randomSample[:sampleSize].reset_index(drop=True) #Faz splice dos dados com base no <inserir nome> que serve como indicador da percentagem de dados a usar. neste caso os primeiros 80% da tabela - reset_index faz reset ao indice da tabela\n",
    "test_set = randomSample[sampleSize:].reset_index(drop=True) #Faz splice dos dados com base na variável \"sampleSize\" que serve como indicador da percentagem de dados a usar. neste caso os dados que sobram após \"ler\" 80% da tabela - reset_index faz reset ao indice da tabela\n",
    "\n",
    "\n",
    "print(\"Dados de Treino\")\n",
    "print(trainGroup['Status'].value_counts())\n",
    "print(\"\")\n",
    "print(trainGroup['Status'].value_counts(normalize = True))\n",
    "\n",
    "print(\"\")\n",
    "\n",
    "print(\"Dados de Teste\")\n",
    "print(test_set['Status'].value_counts())\n",
    "print(\"\")\n",
    "print(test_set['Status'].value_counts(normalize = True))"
   ]
  },
  {
   "cell_type": "code",
   "execution_count": 5,
   "metadata": {},
   "outputs": [
    {
     "output_type": "execute_result",
     "data": {
      "text/plain": [
       "  Status                                           Mensagem\n",
       "0    ham   lol no ouch but wish i d stayed out a bit longer\n",
       "1    ham                        well done and   luv ya all \n",
       "2    ham   me 2 babe i feel the same lets just 4get abou...\n",
       "3    ham  gal n boy walking in d park  gal can i hold ur...\n",
       "4    ham  sorry man  my stash ran dry last night and i c..."
      ],
      "text/html": "<div>\n<style scoped>\n    .dataframe tbody tr th:only-of-type {\n        vertical-align: middle;\n    }\n\n    .dataframe tbody tr th {\n        vertical-align: top;\n    }\n\n    .dataframe thead th {\n        text-align: right;\n    }\n</style>\n<table border=\"1\" class=\"dataframe\">\n  <thead>\n    <tr style=\"text-align: right;\">\n      <th></th>\n      <th>Status</th>\n      <th>Mensagem</th>\n    </tr>\n  </thead>\n  <tbody>\n    <tr>\n      <th>0</th>\n      <td>ham</td>\n      <td>lol no ouch but wish i d stayed out a bit longer</td>\n    </tr>\n    <tr>\n      <th>1</th>\n      <td>ham</td>\n      <td>well done and   luv ya all</td>\n    </tr>\n    <tr>\n      <th>2</th>\n      <td>ham</td>\n      <td>me 2 babe i feel the same lets just 4get abou...</td>\n    </tr>\n    <tr>\n      <th>3</th>\n      <td>ham</td>\n      <td>gal n boy walking in d park  gal can i hold ur...</td>\n    </tr>\n    <tr>\n      <th>4</th>\n      <td>ham</td>\n      <td>sorry man  my stash ran dry last night and i c...</td>\n    </tr>\n  </tbody>\n</table>\n</div>"
     },
     "metadata": {},
     "execution_count": 5
    }
   ],
   "source": [
    "#Limpeza dos dados\n",
    "trainGroup['Mensagem'] = trainGroup['Mensagem'].str.replace('\\W', ' ') # Limpa a pontuação\n",
    "trainGroup['Mensagem'] = trainGroup['Mensagem'].str.lower()  #Transforma tudo em letra pequena\n",
    "trainGroup.head()"
   ]
  },
  {
   "cell_type": "code",
   "execution_count": 6,
   "metadata": {},
   "outputs": [
    {
     "output_type": "stream",
     "name": "stdout",
     "text": [
      "Total de palavras:  7819\n"
     ]
    }
   ],
   "source": [
    "trainGroup['Mensagem'] = trainGroup['Mensagem'].str.split() \n",
    "\n",
    "#Transformamos cada mensagem na coluna \"Mensagem\" numa lista de palavras - Usamos o split para dividir a frase em várias palavras com o espaço como identificador do fim de cada palavra.\n",
    "\n",
    "palavras = [] \n",
    "for mensagem in trainGroup['Mensagem']:\n",
    "   for word in mensagem:\n",
    "      palavras.append(word)\n",
    "\n",
    "palavras = list(set(palavras))\n",
    "\n",
    "# Com os nested fors vamos adicionando à lista \"palavras\" cada palavra presente nas várias mensagens. Depois usamos o set para remover todas as palavras duplicadas da lista e finalmente convertemos o objecto de volta a uma lista com o cast do list porque no for são convertidas em string.\n",
    "\n",
    "print(\"Total de palavras: \", len(palavras))"
   ]
  },
  {
   "cell_type": "code",
   "execution_count": 7,
   "metadata": {},
   "outputs": [
    {
     "output_type": "execute_result",
     "data": {
      "text/plain": [
       "   acting  formatting  okors  txt  coping  mtnl  emigrated  08719180248  \\\n",
       "0       0           0      0    0       0     0          0            0   \n",
       "1       0           0      0    0       0     0          0            0   \n",
       "2       0           0      0    0       0     0          0            0   \n",
       "3       0           0      0    0       0     0          0            0   \n",
       "4       0           0      0    0       0     0          0            0   \n",
       "\n",
       "   mecause  skateboarding  ...  konw  icon  oooooh  natural  numbers  smsing  \\\n",
       "0        0              0  ...     0     0       0        0        0       0   \n",
       "1        0              0  ...     0     0       0        0        0       0   \n",
       "2        0              0  ...     0     0       0        0        0       0   \n",
       "3        0              0  ...     0     0       0        0        0       0   \n",
       "4        0              0  ...     0     0       0        0        0       0   \n",
       "\n",
       "   tirupur  sad  returned  friendsare  \n",
       "0        0    0         0           0  \n",
       "1        0    0         0           0  \n",
       "2        0    0         0           0  \n",
       "3        0    0         0           0  \n",
       "4        0    0         0           0  \n",
       "\n",
       "[5 rows x 7819 columns]"
      ],
      "text/html": "<div>\n<style scoped>\n    .dataframe tbody tr th:only-of-type {\n        vertical-align: middle;\n    }\n\n    .dataframe tbody tr th {\n        vertical-align: top;\n    }\n\n    .dataframe thead th {\n        text-align: right;\n    }\n</style>\n<table border=\"1\" class=\"dataframe\">\n  <thead>\n    <tr style=\"text-align: right;\">\n      <th></th>\n      <th>acting</th>\n      <th>formatting</th>\n      <th>okors</th>\n      <th>txt</th>\n      <th>coping</th>\n      <th>mtnl</th>\n      <th>emigrated</th>\n      <th>08719180248</th>\n      <th>mecause</th>\n      <th>skateboarding</th>\n      <th>...</th>\n      <th>konw</th>\n      <th>icon</th>\n      <th>oooooh</th>\n      <th>natural</th>\n      <th>numbers</th>\n      <th>smsing</th>\n      <th>tirupur</th>\n      <th>sad</th>\n      <th>returned</th>\n      <th>friendsare</th>\n    </tr>\n  </thead>\n  <tbody>\n    <tr>\n      <th>0</th>\n      <td>0</td>\n      <td>0</td>\n      <td>0</td>\n      <td>0</td>\n      <td>0</td>\n      <td>0</td>\n      <td>0</td>\n      <td>0</td>\n      <td>0</td>\n      <td>0</td>\n      <td>...</td>\n      <td>0</td>\n      <td>0</td>\n      <td>0</td>\n      <td>0</td>\n      <td>0</td>\n      <td>0</td>\n      <td>0</td>\n      <td>0</td>\n      <td>0</td>\n      <td>0</td>\n    </tr>\n    <tr>\n      <th>1</th>\n      <td>0</td>\n      <td>0</td>\n      <td>0</td>\n      <td>0</td>\n      <td>0</td>\n      <td>0</td>\n      <td>0</td>\n      <td>0</td>\n      <td>0</td>\n      <td>0</td>\n      <td>...</td>\n      <td>0</td>\n      <td>0</td>\n      <td>0</td>\n      <td>0</td>\n      <td>0</td>\n      <td>0</td>\n      <td>0</td>\n      <td>0</td>\n      <td>0</td>\n      <td>0</td>\n    </tr>\n    <tr>\n      <th>2</th>\n      <td>0</td>\n      <td>0</td>\n      <td>0</td>\n      <td>0</td>\n      <td>0</td>\n      <td>0</td>\n      <td>0</td>\n      <td>0</td>\n      <td>0</td>\n      <td>0</td>\n      <td>...</td>\n      <td>0</td>\n      <td>0</td>\n      <td>0</td>\n      <td>0</td>\n      <td>0</td>\n      <td>0</td>\n      <td>0</td>\n      <td>0</td>\n      <td>0</td>\n      <td>0</td>\n    </tr>\n    <tr>\n      <th>3</th>\n      <td>0</td>\n      <td>0</td>\n      <td>0</td>\n      <td>0</td>\n      <td>0</td>\n      <td>0</td>\n      <td>0</td>\n      <td>0</td>\n      <td>0</td>\n      <td>0</td>\n      <td>...</td>\n      <td>0</td>\n      <td>0</td>\n      <td>0</td>\n      <td>0</td>\n      <td>0</td>\n      <td>0</td>\n      <td>0</td>\n      <td>0</td>\n      <td>0</td>\n      <td>0</td>\n    </tr>\n    <tr>\n      <th>4</th>\n      <td>0</td>\n      <td>0</td>\n      <td>0</td>\n      <td>0</td>\n      <td>0</td>\n      <td>0</td>\n      <td>0</td>\n      <td>0</td>\n      <td>0</td>\n      <td>0</td>\n      <td>...</td>\n      <td>0</td>\n      <td>0</td>\n      <td>0</td>\n      <td>0</td>\n      <td>0</td>\n      <td>0</td>\n      <td>0</td>\n      <td>0</td>\n      <td>0</td>\n      <td>0</td>\n    </tr>\n  </tbody>\n</table>\n<p>5 rows × 7819 columns</p>\n</div>"
     },
     "metadata": {},
     "execution_count": 7
    }
   ],
   "source": [
    "wordCounter = {}\n",
    "wordCounter = {unique_word: [0] * len(trainGroup['Mensagem']) for unique_word in palavras}\n",
    "\n",
    "for index, mensagem in enumerate(trainGroup['Mensagem']):\n",
    "   for word in mensagem:\n",
    "      wordCounter[word][index] += 1\n",
    "\n",
    "wordTable = pd.DataFrame(wordCounter)\n",
    "wordTable.head()\n",
    "\n",
    "# Criamos um dicionário em que cada chave é uma palavra da lista \"palavra\". Depois o for vai popular a tabela com as várias palavras (colunas) e a frequencia delas em cada um dos elementos do CSV (linhas). Na tabela abaixo só aparecem as primeiras 5 linhas porque o default do .head() é 5\n"
   ]
  },
  {
   "cell_type": "code",
   "execution_count": 8,
   "metadata": {},
   "outputs": [
    {
     "output_type": "execute_result",
     "data": {
      "text/plain": [
       "  Status                                           Mensagem  acting  \\\n",
       "0    ham  [lol, no, ouch, but, wish, i, d, stayed, out, ...       0   \n",
       "1    ham                    [well, done, and, luv, ya, all]       0   \n",
       "2    ham  [me, 2, babe, i, feel, the, same, lets, just, ...       0   \n",
       "3    ham  [gal, n, boy, walking, in, d, park, gal, can, ...       0   \n",
       "4    ham  [sorry, man, my, stash, ran, dry, last, night,...       0   \n",
       "\n",
       "   formatting  okors  txt  coping  mtnl  emigrated  08719180248  ...  konw  \\\n",
       "0           0      0    0       0     0          0            0  ...     0   \n",
       "1           0      0    0       0     0          0            0  ...     0   \n",
       "2           0      0    0       0     0          0            0  ...     0   \n",
       "3           0      0    0       0     0          0            0  ...     0   \n",
       "4           0      0    0       0     0          0            0  ...     0   \n",
       "\n",
       "   icon  oooooh  natural  numbers  smsing  tirupur  sad  returned  friendsare  \n",
       "0     0       0        0        0       0        0    0         0           0  \n",
       "1     0       0        0        0       0        0    0         0           0  \n",
       "2     0       0        0        0       0        0    0         0           0  \n",
       "3     0       0        0        0       0        0    0         0           0  \n",
       "4     0       0        0        0       0        0    0         0           0  \n",
       "\n",
       "[5 rows x 7821 columns]"
      ],
      "text/html": "<div>\n<style scoped>\n    .dataframe tbody tr th:only-of-type {\n        vertical-align: middle;\n    }\n\n    .dataframe tbody tr th {\n        vertical-align: top;\n    }\n\n    .dataframe thead th {\n        text-align: right;\n    }\n</style>\n<table border=\"1\" class=\"dataframe\">\n  <thead>\n    <tr style=\"text-align: right;\">\n      <th></th>\n      <th>Status</th>\n      <th>Mensagem</th>\n      <th>acting</th>\n      <th>formatting</th>\n      <th>okors</th>\n      <th>txt</th>\n      <th>coping</th>\n      <th>mtnl</th>\n      <th>emigrated</th>\n      <th>08719180248</th>\n      <th>...</th>\n      <th>konw</th>\n      <th>icon</th>\n      <th>oooooh</th>\n      <th>natural</th>\n      <th>numbers</th>\n      <th>smsing</th>\n      <th>tirupur</th>\n      <th>sad</th>\n      <th>returned</th>\n      <th>friendsare</th>\n    </tr>\n  </thead>\n  <tbody>\n    <tr>\n      <th>0</th>\n      <td>ham</td>\n      <td>[lol, no, ouch, but, wish, i, d, stayed, out, ...</td>\n      <td>0</td>\n      <td>0</td>\n      <td>0</td>\n      <td>0</td>\n      <td>0</td>\n      <td>0</td>\n      <td>0</td>\n      <td>0</td>\n      <td>...</td>\n      <td>0</td>\n      <td>0</td>\n      <td>0</td>\n      <td>0</td>\n      <td>0</td>\n      <td>0</td>\n      <td>0</td>\n      <td>0</td>\n      <td>0</td>\n      <td>0</td>\n    </tr>\n    <tr>\n      <th>1</th>\n      <td>ham</td>\n      <td>[well, done, and, luv, ya, all]</td>\n      <td>0</td>\n      <td>0</td>\n      <td>0</td>\n      <td>0</td>\n      <td>0</td>\n      <td>0</td>\n      <td>0</td>\n      <td>0</td>\n      <td>...</td>\n      <td>0</td>\n      <td>0</td>\n      <td>0</td>\n      <td>0</td>\n      <td>0</td>\n      <td>0</td>\n      <td>0</td>\n      <td>0</td>\n      <td>0</td>\n      <td>0</td>\n    </tr>\n    <tr>\n      <th>2</th>\n      <td>ham</td>\n      <td>[me, 2, babe, i, feel, the, same, lets, just, ...</td>\n      <td>0</td>\n      <td>0</td>\n      <td>0</td>\n      <td>0</td>\n      <td>0</td>\n      <td>0</td>\n      <td>0</td>\n      <td>0</td>\n      <td>...</td>\n      <td>0</td>\n      <td>0</td>\n      <td>0</td>\n      <td>0</td>\n      <td>0</td>\n      <td>0</td>\n      <td>0</td>\n      <td>0</td>\n      <td>0</td>\n      <td>0</td>\n    </tr>\n    <tr>\n      <th>3</th>\n      <td>ham</td>\n      <td>[gal, n, boy, walking, in, d, park, gal, can, ...</td>\n      <td>0</td>\n      <td>0</td>\n      <td>0</td>\n      <td>0</td>\n      <td>0</td>\n      <td>0</td>\n      <td>0</td>\n      <td>0</td>\n      <td>...</td>\n      <td>0</td>\n      <td>0</td>\n      <td>0</td>\n      <td>0</td>\n      <td>0</td>\n      <td>0</td>\n      <td>0</td>\n      <td>0</td>\n      <td>0</td>\n      <td>0</td>\n    </tr>\n    <tr>\n      <th>4</th>\n      <td>ham</td>\n      <td>[sorry, man, my, stash, ran, dry, last, night,...</td>\n      <td>0</td>\n      <td>0</td>\n      <td>0</td>\n      <td>0</td>\n      <td>0</td>\n      <td>0</td>\n      <td>0</td>\n      <td>0</td>\n      <td>...</td>\n      <td>0</td>\n      <td>0</td>\n      <td>0</td>\n      <td>0</td>\n      <td>0</td>\n      <td>0</td>\n      <td>0</td>\n      <td>0</td>\n      <td>0</td>\n      <td>0</td>\n    </tr>\n  </tbody>\n</table>\n<p>5 rows × 7821 columns</p>\n</div>"
     },
     "metadata": {},
     "execution_count": 8
    }
   ],
   "source": [
    "trainGroup_processed = pd.concat([trainGroup, wordTable], axis=1)\n",
    "trainGroup_processed.head()\n",
    "\n",
    "# Juntamos a \"tabela\" do trainGroup com a da contagem de palavras para ficarmos com um data frame bonito e limpo que podemos usar para trainar o nosso modelo."
   ]
  },
  {
   "cell_type": "code",
   "execution_count": 9,
   "metadata": {},
   "outputs": [],
   "source": [
    "#Splice 2. Electric Splicealoo - Separamos as mensagens em 2 grupos - ham e spam - para podermos realizar o calculo\n",
    "ham_messages = trainGroup_processed[trainGroup_processed['Status'] == 'ham']\n",
    "spam_messages = trainGroup_processed[trainGroup_processed['Status'] == 'spam'] \n",
    "\n",
    "\n",
    "# Probabilidades\n",
    "p_spam = len(spam_messages) / len(trainGroup_processed)\n",
    "p_ham = len(ham_messages) / len(trainGroup_processed)\n",
    "\n",
    "#n do Spam é igual à soma todas as palavras de todas as mensagens Spam\n",
    "totalWordsPerSpam = spam_messages['Mensagem'].apply(len)\n",
    "n_spam = totalWordsPerSpam.sum()\n",
    "\n",
    "#n do Ham é igual à soma todas as palavras de todas as mensagens Ham\n",
    "totalWordsPerHam = ham_messages['Mensagem'].apply(len)\n",
    "n_ham = totalWordsPerHam.sum()\n",
    "\n",
    "# Auto explicativo\n",
    "n_vocabulary = len(palavras)\n",
    "\n",
    "# Suavização de laplace - Essencialmente ajuda a suavizar erros na aplicação da formula de naive bayes quando uma das probabilidades é 0 (https://towardsdatascience.com/laplace-smoothing-in-na%C3%AFve-bayes-algorithm-9c237a8bdece)\n",
    "alpha = 1"
   ]
  },
  {
   "cell_type": "code",
   "execution_count": 10,
   "metadata": {},
   "outputs": [],
   "source": [
    "palavra_spam = {unique_word:0 for unique_word in palavras}\n",
    "palavra_ham = {unique_word:0 for unique_word in palavras}\n",
    "\n",
    "\n",
    "for word in palavras:\n",
    "   n_word_given_spam = spam_messages[word].sum()\n",
    "   p_word_given_spam = (n_word_given_spam + alpha) / (n_spam + alpha*n_vocabulary)\n",
    "   palavra_spam[word] = p_word_given_spam\n",
    "\n",
    "   n_word_given_ham = ham_messages[word].sum() \n",
    "   p_word_given_ham = (n_word_given_ham + alpha) / (n_ham + alpha*n_vocabulary)\n",
    "   palavra_ham[word] = p_word_given_ham\n",
    "\n",
    "#Este é o core do algoritmo, aqui calculamos a probabilidade da cada palavra ser parte de uma mensagem spam ou ham com base do set de palavras de treino que temos no sistema."
   ]
  },
  {
   "cell_type": "code",
   "execution_count": 18,
   "metadata": {},
   "outputs": [],
   "source": [
    "def classificador(message):\n",
    "   message = re.sub('\\W', ' ', message)\n",
    "   message = message.lower().split()\n",
    "   #Limpamos o texto fornecido pelo user\n",
    "\n",
    "#V Calculados as odds das cada palavra na mensagem compor um spam/ham. Comparamos as odds e decidimos a qual dos 3 tipos de mensagem pertence o mail\n",
    " \n",
    "   p_spamInput = p_spam\n",
    "   p_hamInput = p_ham\n",
    "\n",
    "   for word in message:\n",
    "      if word in palavra_spam:\n",
    "         p_spamInput *= palavra_spam[word]\n",
    "\n",
    "      if word in palavra_ham:\n",
    "         p_hamInput *= palavra_ham[word]\n",
    "\n",
    "   print('Odd Spam:', p_spamInput)\n",
    "   print('Odd Ham:', p_hamInput)\n",
    "\n",
    "   if p_hamInput > p_spamInput:\n",
    "      return 'These are not the spams you are looking for'\n",
    "   elif p_spamInput > p_hamInput:\n",
    "      return 'Stop Rebel Spam!'\n",
    "   else:\n",
    "      return 'Congratulations! You are being analysed! Please do not resist.'"
   ]
  },
  {
   "cell_type": "code",
   "execution_count": 24,
   "metadata": {},
   "outputs": [],
   "source": [
    "def tester(message):\n",
    " # Esta função serve apenas para testar porque a outra ia fazer print das odds para cada um dos mails do csv e meter a classificação comprida do print no data frame \n",
    "\n",
    "   message = re.sub('\\W', ' ', message)\n",
    "   message = message.lower().split()\n",
    "   #Limpamos o texto fornecido pelo user\n",
    "\n",
    "   p_spamInput = p_spam\n",
    "   p_hamInput = p_ham\n",
    "\n",
    "   for word in message:\n",
    "      if word in palavra_spam:\n",
    "         p_spamInput *= palavra_spam[word]\n",
    "\n",
    "      if word in palavra_ham:\n",
    "         p_hamInput *= palavra_ham[word]\n",
    "\n",
    "   if p_hamInput > p_spamInput:\n",
    "      return 'ham'\n",
    "   elif p_spamInput > p_hamInput:\n",
    "      return 'spam'\n",
    "   else:\n",
    "      return 'unknown'"
   ]
  },
  {
   "cell_type": "code",
   "execution_count": 25,
   "metadata": {
    "tags": []
   },
   "outputs": [
    {
     "output_type": "execute_result",
     "data": {
      "text/plain": [
       "  Status                                           Mensagem Calculado\n",
       "0    ham            Nothing, i got msg frm tht unknown no..       ham\n",
       "1    ham  Yup it's at paragon... I havent decided whethe...       ham\n",
       "2    ham  Do u still have plumbers tape and a wrench we ...       ham\n",
       "3    ham  Babe, I'm answering you, can't you see me ? Ma...       ham\n",
       "4   spam  ou are guaranteed the latest Nokia Phone, a 40...      spam"
      ],
      "text/html": "<div>\n<style scoped>\n    .dataframe tbody tr th:only-of-type {\n        vertical-align: middle;\n    }\n\n    .dataframe tbody tr th {\n        vertical-align: top;\n    }\n\n    .dataframe thead th {\n        text-align: right;\n    }\n</style>\n<table border=\"1\" class=\"dataframe\">\n  <thead>\n    <tr style=\"text-align: right;\">\n      <th></th>\n      <th>Status</th>\n      <th>Mensagem</th>\n      <th>Calculado</th>\n    </tr>\n  </thead>\n  <tbody>\n    <tr>\n      <th>0</th>\n      <td>ham</td>\n      <td>Nothing, i got msg frm tht unknown no..</td>\n      <td>ham</td>\n    </tr>\n    <tr>\n      <th>1</th>\n      <td>ham</td>\n      <td>Yup it's at paragon... I havent decided whethe...</td>\n      <td>ham</td>\n    </tr>\n    <tr>\n      <th>2</th>\n      <td>ham</td>\n      <td>Do u still have plumbers tape and a wrench we ...</td>\n      <td>ham</td>\n    </tr>\n    <tr>\n      <th>3</th>\n      <td>ham</td>\n      <td>Babe, I'm answering you, can't you see me ? Ma...</td>\n      <td>ham</td>\n    </tr>\n    <tr>\n      <th>4</th>\n      <td>spam</td>\n      <td>ou are guaranteed the latest Nokia Phone, a 40...</td>\n      <td>spam</td>\n    </tr>\n  </tbody>\n</table>\n</div>"
     },
     "metadata": {},
     "execution_count": 25
    }
   ],
   "source": [
    "test_set['Calculado'] = test_set['Mensagem'].apply(tester) #Aplica o teste ao grupo de forma a gerar a coluna \"Calculado\" e adiciona a mesma ao data frame. Aqui podiamos aplicar a função \"classificador\" mas o print ia ficar feio.\n",
    "test_set.head()"
   ]
  },
  {
   "cell_type": "code",
   "execution_count": 35,
   "metadata": {},
   "outputs": [
    {
     "output_type": "stream",
     "name": "stdout",
     "text": [
      "ham | No calls..messages..missed calls | spam\nspam | thesmszone.com lets you send free anonymous and masked messages..im sending this message from there..do you see the potential for abuse??? | ham\nham | Nokia phone is lovly.. | spam\nspam | Latest News! Police station toilet stolen, cops have nothing to go on! | ham\nspam | Hello. We need some posh birds and chaps to user trial prods for champneys. Can i put you down? I need your address and dob asap. Ta r | ham\nham | No calls..messages..missed calls | spam\nspam | FreeMsg Hey there darling it's been 3 week's now and no word back! I'd like some fun you up for it still? Tb ok! XxX std chgs to send, å£1.50 to rcv | ham\nspam | Guess who am I?This is the first time I created a web page WWW.ASJESUS.COM read all I wrote. I'm waiting for your opinions. I want to be your friend 1/1 | ham\nspam | Not heard from U4 a while. Call me now am here all night with just my knickers on. Make me beg for it like U did last time 01223585236 XX Luv Nikiyu4.net | ham\nspam | Hi its LUCY Hubby at meetins all day Fri & I will B alone at hotel U fancy cumin over? Pls leave msg 2day 09099726395 Lucy x Callså£1/minMobsmoreLKPOBOX177HP51FL | ham\nspam | Your next amazing xxx PICSFREE1 video will be sent to you enjoy! If one vid is not enough for 2day text back the keyword PICSFREE1 to get the next video. | ham\n\nResultados\nCorretos: 1103\nIncorrectos: 11\nRatio: 99.01256732495511\n"
     ]
    }
   ],
   "source": [
    "#Verificar a fiabilidade do algoritmo - Itera cada linha do grupo de testes, compara a classificação pré-existente com a do algoritmo e devolve os resultados. Também faz print das mensagens que falhou em classificar para que seja possível perceber os erros.\n",
    "certo = 0\n",
    "total = test_set.shape[0]\n",
    "\n",
    "for row in test_set.iterrows():\n",
    "   row = row[1]\n",
    "   if row['Status'] == row['Calculado']:\n",
    "      certo += 1\n",
    "   else:\n",
    "      print(row['Status'], \"|\",row['Mensagem'], \"|\", row['Calculado'])\n",
    "\n",
    "print(\"\\nResultados\")\n",
    "print('Corretos:', certo)\n",
    "print('Incorrectos:', total - certo)\n",
    "print('Ratio:', (certo/total)*100)"
   ]
  },
  {
   "cell_type": "code",
   "execution_count": 31,
   "metadata": {},
   "outputs": [
    {
     "output_type": "stream",
     "name": "stdout",
     "text": [
      "Odd Spam: 1.8497556882635062e-26\nOdd Ham: 6.485257249309859e-29\n"
     ]
    },
    {
     "output_type": "execute_result",
     "data": {
      "text/plain": [
       "'Stop Rebel Spam!'"
      ]
     },
     "metadata": {},
     "execution_count": 31
    }
   ],
   "source": [
    "classificador('Wow so much win! Big Prize. Free Cash!')"
   ]
  },
  {
   "cell_type": "code",
   "execution_count": 30,
   "metadata": {},
   "outputs": [
    {
     "output_type": "stream",
     "name": "stdout",
     "text": [
      "Odd Spam: 2.1537192782725765e-28\nOdd Ham: 3.296142157469712e-22\n"
     ]
    },
    {
     "output_type": "execute_result",
     "data": {
      "text/plain": [
       "'These are not the spams you are looking for'"
      ]
     },
     "metadata": {},
     "execution_count": 30
    }
   ],
   "source": [
    "classificador(\"Then we'll keep the meeting scheduled for friday\")"
   ]
  },
  {
   "cell_type": "code",
   "execution_count": 36,
   "metadata": {},
   "outputs": [
    {
     "output_type": "stream",
     "name": "stdout",
     "text": [
      "Odd Spam: 5.044308548608223e-27\nOdd Ham: 3.5798508608331393e-29\n"
     ]
    },
    {
     "output_type": "execute_result",
     "data": {
      "text/plain": [
       "'Stop Rebel Spam!'"
      ]
     },
     "metadata": {},
     "execution_count": 36
    }
   ],
   "source": [
    "classificador(\"OMG you're the winner. Lucky prize Tao Bao\")"
   ]
  }
 ]
}