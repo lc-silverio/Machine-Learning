{
 "metadata": {
  "language_info": {
   "codemirror_mode": {
    "name": "ipython",
    "version": 3
   },
   "file_extension": ".py",
   "mimetype": "text/x-python",
   "name": "python",
   "nbconvert_exporter": "python",
   "pygments_lexer": "ipython3",
   "version": "3.8.5-final"
  },
  "orig_nbformat": 2,
  "kernelspec": {
   "name": "python3",
   "display_name": "Python 3",
   "language": "python"
  }
 },
 "nbformat": 4,
 "nbformat_minor": 2,
 "cells": [
  {
   "cell_type": "code",
   "execution_count": 24,
   "metadata": {},
   "outputs": [
    {
     "output_type": "stream",
     "name": "stdout",
     "text": [
      "Linhas x Colunas (5572, 2)\n"
     ]
    },
    {
     "output_type": "execute_result",
     "data": {
      "text/plain": [
       "  Status                                           Mensagem\n",
       "0    ham  Go until jurong point, crazy.. Available only ...\n",
       "1    ham                      Ok lar... Joking wif u oni...\n",
       "2   spam  Free entry in 2 a wkly comp to win FA Cup fina...\n",
       "3    ham  U dun say so early hor... U c already then say...\n",
       "4    ham  Nah I don't think he goes to usf, he lives aro..."
      ],
      "text/html": "<div>\n<style scoped>\n    .dataframe tbody tr th:only-of-type {\n        vertical-align: middle;\n    }\n\n    .dataframe tbody tr th {\n        vertical-align: top;\n    }\n\n    .dataframe thead th {\n        text-align: right;\n    }\n</style>\n<table border=\"1\" class=\"dataframe\">\n  <thead>\n    <tr style=\"text-align: right;\">\n      <th></th>\n      <th>Status</th>\n      <th>Mensagem</th>\n    </tr>\n  </thead>\n  <tbody>\n    <tr>\n      <th>0</th>\n      <td>ham</td>\n      <td>Go until jurong point, crazy.. Available only ...</td>\n    </tr>\n    <tr>\n      <th>1</th>\n      <td>ham</td>\n      <td>Ok lar... Joking wif u oni...</td>\n    </tr>\n    <tr>\n      <th>2</th>\n      <td>spam</td>\n      <td>Free entry in 2 a wkly comp to win FA Cup fina...</td>\n    </tr>\n    <tr>\n      <th>3</th>\n      <td>ham</td>\n      <td>U dun say so early hor... U c already then say...</td>\n    </tr>\n    <tr>\n      <th>4</th>\n      <td>ham</td>\n      <td>Nah I don't think he goes to usf, he lives aro...</td>\n    </tr>\n  </tbody>\n</table>\n</div>"
     },
     "metadata": {},
     "execution_count": 24
    }
   ],
   "source": [
    "import pandas as pd\n",
    "\n",
    "## DATA SETS ---------\n",
    "smsData = pd.read_csv(\"spam.csv\", encoding = \"latin-1\", usecols=[\"v1\", \"v2\"])## importa o data set como um data-frame, usa o latin-1 com decoding para ler o ficheiro e seleciona as colunas v1 e v2 como as unicas a ser usadas (o ficheiro tem mais 3 colunas mas vazias) \n",
    "\n",
    "## TRANSFORMS\n",
    "smsData.columns = [\"Status\", \"Mensagem\"] #renomeia os hearders das colunas\n",
    "\n",
    "print(\"Linhas x Colunas\", smsData.shape) #print do tamanho da matriz\n",
    "smsData.head()  # print das primeiras 5 linhas da mat"
   ]
  },
  {
   "cell_type": "code",
   "execution_count": 43,
   "metadata": {},
   "outputs": [
    {
     "output_type": "stream",
     "name": "stdout",
     "text": [
      "Distribuição\nham     4825\nspam     747\nName: Status, dtype: int64\n\nFrequência Relativa\nham     0.865937\nspam    0.134063\nName: Status, dtype: float64\n"
     ]
    }
   ],
   "source": [
    "print(\"Distribuição\")\n",
    "print(smsData['Status'].value_counts()) #Quantidade da ham x spam na tabela\n",
    "print(\"\")\n",
    "print(\"Frequência Relativa\")\n",
    "print(smsData['Status'].value_counts(normalize=True)) #Frequencia relativa"
   ]
  },
  {
   "cell_type": "code",
   "execution_count": 60,
   "metadata": {},
   "outputs": [
    {
     "output_type": "stream",
     "name": "stdout",
     "text": [
      "Dados de Treino\nham     3853\nspam     605\nName: Status, dtype: int64\n\nham     0.864289\nspam    0.135711\nName: Status, dtype: float64\n\nDados de Teste\nham     972\nspam    142\nName: Status, dtype: int64\n\nham     0.872531\nspam    0.127469\nName: Status, dtype: float64\n"
     ]
    }
   ],
   "source": [
    "#Divisão em Sets\n",
    "randomSample = smsData.sample(frac=1, random_state=666) # Faz suffle da tabela - frac é a fração dos dados a usar (0,0 a 1,0) - random-state = (int) é a seed que o sistema vai usar como \"fator de entropia\" para gerar o \"random\"\n",
    "\n",
    "# Definir o percentagem de dados a usar (0 a 1)\n",
    "sampleSize = round(len(randomSample) * 0.8)\n",
    "\n",
    "# Criação do grupo de teste e treino\n",
    "trainGroup = randomSample[:sampleSize].reset_index(drop=True) #Faz splice dos dados com base no <inserir nome> que serve como indicador da percentagem de dados a usar. neste caso os primeiros 80% da tabela - reset_index faz reset ao indice da tabela\n",
    "test_set = randomSample[sampleSize:].reset_index(drop=True) #Faz splice dos dados com base no <inserir nome> que serve como indicador da percentagem de dados a usar. neste caso os dados que sobram após \"ler\" 80% da tabela - reset_index faz reset ao indice da tabela\n",
    "\n",
    "\n",
    "print(\"Dados de Treino\")\n",
    "print(trainGroup['Status'].value_counts())\n",
    "print(\"\")\n",
    "print(trainGroup['Status'].value_counts(normalize = True))\n",
    "\n",
    "print(\"\")\n",
    "\n",
    "print(\"Dados de Teste\")\n",
    "print(test_set['Status'].value_counts())\n",
    "print(\"\")\n",
    "print(test_set['Status'].value_counts(normalize = True))"
   ]
  },
  {
   "cell_type": "code",
   "execution_count": 61,
   "metadata": {},
   "outputs": [
    {
     "output_type": "execute_result",
     "data": {
      "text/plain": [
       "  Status                                           Mensagem\n",
       "0    ham   lol no ouch but wish i d stayed out a bit longer\n",
       "1    ham                        well done and   luv ya all \n",
       "2    ham   me 2 babe i feel the same lets just 4get abou...\n",
       "3    ham  gal n boy walking in d park  gal can i hold ur...\n",
       "4    ham  sorry man  my stash ran dry last night and i c..."
      ],
      "text/html": "<div>\n<style scoped>\n    .dataframe tbody tr th:only-of-type {\n        vertical-align: middle;\n    }\n\n    .dataframe tbody tr th {\n        vertical-align: top;\n    }\n\n    .dataframe thead th {\n        text-align: right;\n    }\n</style>\n<table border=\"1\" class=\"dataframe\">\n  <thead>\n    <tr style=\"text-align: right;\">\n      <th></th>\n      <th>Status</th>\n      <th>Mensagem</th>\n    </tr>\n  </thead>\n  <tbody>\n    <tr>\n      <th>0</th>\n      <td>ham</td>\n      <td>lol no ouch but wish i d stayed out a bit longer</td>\n    </tr>\n    <tr>\n      <th>1</th>\n      <td>ham</td>\n      <td>well done and   luv ya all</td>\n    </tr>\n    <tr>\n      <th>2</th>\n      <td>ham</td>\n      <td>me 2 babe i feel the same lets just 4get abou...</td>\n    </tr>\n    <tr>\n      <th>3</th>\n      <td>ham</td>\n      <td>gal n boy walking in d park  gal can i hold ur...</td>\n    </tr>\n    <tr>\n      <th>4</th>\n      <td>ham</td>\n      <td>sorry man  my stash ran dry last night and i c...</td>\n    </tr>\n  </tbody>\n</table>\n</div>"
     },
     "metadata": {},
     "execution_count": 61
    }
   ],
   "source": [
    "#Limpeza dos dados\n",
    "trainGroup['Mensagem'] = trainGroup['Mensagem'].str.replace('\\W', ' ') # Limpa a pontuação\n",
    "trainGroup['Mensagem'] = trainGroup['Mensagem'].str.lower()  #Transforma tudo em letra pequena\n",
    "trainGroup.head()"
   ]
  },
  {
   "cell_type": "code",
   "execution_count": 62,
   "metadata": {},
   "outputs": [
    {
     "output_type": "stream",
     "name": "stdout",
     "text": [
      "Total de palavras:  7819\n"
     ]
    }
   ],
   "source": [
    "trainGroup['Mensagem'] = trainGroup['Mensagem'].str.split() \n",
    "\n",
    "#Transformamos cada mensagem na coluna \"Mensagem\" numa lista de palavras - Usamos o split para dividir a frase em várias palavras com o espaço como identificador do fim de cada palavra.\n",
    "\n",
    "palavras = [] \n",
    "for mensagem in trainGroup['Mensagem']:\n",
    "   for word in mensagem:\n",
    "      palavras.append(word)\n",
    "\n",
    "palavras = list(set(palavras))\n",
    "\n",
    "# Com os nested fors vamos adicionando à lista \"palavras\" cada palavra presente nas várias mensagens. Depois usamos o set para remover todas as palavras duplicadas da lista e finalmente convertemos a lista de volta a uma lista com o cast do list porque no for são convertidas em string.\n",
    "\n",
    "print(\"Total de palavras: \", len(palavras))"
   ]
  },
  {
   "cell_type": "code",
   "execution_count": 80,
   "metadata": {},
   "outputs": [
    {
     "output_type": "execute_result",
     "data": {
      "text/plain": [
       "   gardener  dare  bowls  pussy  misfits  messages  121  09066382422  eng  \\\n",
       "0         0     0      0      0        0         0    0            0    0   \n",
       "1         0     0      0      0        0         0    0            0    0   \n",
       "2         0     0      0      0        0         0    0            0    0   \n",
       "3         0     0      0      0        0         0    0            0    0   \n",
       "4         0     0      0      0        0         0    0            0    0   \n",
       "\n",
       "   coincidence  ...  lovable  supreme  nig  grief  0125698789  bday  sec  \\\n",
       "0            0  ...        0        0    0      0           0     0    0   \n",
       "1            0  ...        0        0    0      0           0     0    0   \n",
       "2            0  ...        0        0    0      0           0     0    0   \n",
       "3            0  ...        0        0    0      0           0     0    0   \n",
       "4            0  ...        0        0    0      0           0     0    0   \n",
       "\n",
       "   atural  fantasy  phyhcmk  \n",
       "0       0        0        0  \n",
       "1       0        0        0  \n",
       "2       0        0        0  \n",
       "3       0        0        0  \n",
       "4       0        0        0  \n",
       "\n",
       "[5 rows x 7819 columns]"
      ],
      "text/html": "<div>\n<style scoped>\n    .dataframe tbody tr th:only-of-type {\n        vertical-align: middle;\n    }\n\n    .dataframe tbody tr th {\n        vertical-align: top;\n    }\n\n    .dataframe thead th {\n        text-align: right;\n    }\n</style>\n<table border=\"1\" class=\"dataframe\">\n  <thead>\n    <tr style=\"text-align: right;\">\n      <th></th>\n      <th>gardener</th>\n      <th>dare</th>\n      <th>bowls</th>\n      <th>pussy</th>\n      <th>misfits</th>\n      <th>messages</th>\n      <th>121</th>\n      <th>09066382422</th>\n      <th>eng</th>\n      <th>coincidence</th>\n      <th>...</th>\n      <th>lovable</th>\n      <th>supreme</th>\n      <th>nig</th>\n      <th>grief</th>\n      <th>0125698789</th>\n      <th>bday</th>\n      <th>sec</th>\n      <th>atural</th>\n      <th>fantasy</th>\n      <th>phyhcmk</th>\n    </tr>\n  </thead>\n  <tbody>\n    <tr>\n      <th>0</th>\n      <td>0</td>\n      <td>0</td>\n      <td>0</td>\n      <td>0</td>\n      <td>0</td>\n      <td>0</td>\n      <td>0</td>\n      <td>0</td>\n      <td>0</td>\n      <td>0</td>\n      <td>...</td>\n      <td>0</td>\n      <td>0</td>\n      <td>0</td>\n      <td>0</td>\n      <td>0</td>\n      <td>0</td>\n      <td>0</td>\n      <td>0</td>\n      <td>0</td>\n      <td>0</td>\n    </tr>\n    <tr>\n      <th>1</th>\n      <td>0</td>\n      <td>0</td>\n      <td>0</td>\n      <td>0</td>\n      <td>0</td>\n      <td>0</td>\n      <td>0</td>\n      <td>0</td>\n      <td>0</td>\n      <td>0</td>\n      <td>...</td>\n      <td>0</td>\n      <td>0</td>\n      <td>0</td>\n      <td>0</td>\n      <td>0</td>\n      <td>0</td>\n      <td>0</td>\n      <td>0</td>\n      <td>0</td>\n      <td>0</td>\n    </tr>\n    <tr>\n      <th>2</th>\n      <td>0</td>\n      <td>0</td>\n      <td>0</td>\n      <td>0</td>\n      <td>0</td>\n      <td>0</td>\n      <td>0</td>\n      <td>0</td>\n      <td>0</td>\n      <td>0</td>\n      <td>...</td>\n      <td>0</td>\n      <td>0</td>\n      <td>0</td>\n      <td>0</td>\n      <td>0</td>\n      <td>0</td>\n      <td>0</td>\n      <td>0</td>\n      <td>0</td>\n      <td>0</td>\n    </tr>\n    <tr>\n      <th>3</th>\n      <td>0</td>\n      <td>0</td>\n      <td>0</td>\n      <td>0</td>\n      <td>0</td>\n      <td>0</td>\n      <td>0</td>\n      <td>0</td>\n      <td>0</td>\n      <td>0</td>\n      <td>...</td>\n      <td>0</td>\n      <td>0</td>\n      <td>0</td>\n      <td>0</td>\n      <td>0</td>\n      <td>0</td>\n      <td>0</td>\n      <td>0</td>\n      <td>0</td>\n      <td>0</td>\n    </tr>\n    <tr>\n      <th>4</th>\n      <td>0</td>\n      <td>0</td>\n      <td>0</td>\n      <td>0</td>\n      <td>0</td>\n      <td>0</td>\n      <td>0</td>\n      <td>0</td>\n      <td>0</td>\n      <td>0</td>\n      <td>...</td>\n      <td>0</td>\n      <td>0</td>\n      <td>0</td>\n      <td>0</td>\n      <td>0</td>\n      <td>0</td>\n      <td>0</td>\n      <td>0</td>\n      <td>0</td>\n      <td>0</td>\n    </tr>\n  </tbody>\n</table>\n<p>5 rows × 7819 columns</p>\n</div>"
     },
     "metadata": {},
     "execution_count": 80
    }
   ],
   "source": [
    "wordCounter = {}\n",
    "wordCounter = {unique_word: [0] * len(trainGroup['Mensagem']) for unique_word in palavras}\n",
    "\n",
    "for index, mensagem in enumerate(trainGroup['Mensagem']):\n",
    "   for word in mensagem:\n",
    "      wordCounter[word][index] += 1\n",
    "\n",
    "wordTable = pd.DataFrame(wordCounter)\n",
    "wordTable.head()\n",
    "\n",
    "# Criamos um dicionário em que cada chave é uma palavra da lista \"palavra\". Depois o for vai popular a tabela com as várias palavras (colunas) e a frequencia delas em cada um dos elementos do CSV (linhas). Na tabela abaixo só aparecem as primeiras 5 linhas porque o default do .head() é 5\n"
   ]
  },
  {
   "cell_type": "code",
   "execution_count": 66,
   "metadata": {},
   "outputs": [
    {
     "output_type": "execute_result",
     "data": {
      "text/plain": [
       "  Status                                           Mensagem  gardener  dare  \\\n",
       "0    ham  [lol, no, ouch, but, wish, i, d, stayed, out, ...         0     0   \n",
       "1    ham                    [well, done, and, luv, ya, all]         0     0   \n",
       "2    ham  [me, 2, babe, i, feel, the, same, lets, just, ...         0     0   \n",
       "3    ham  [gal, n, boy, walking, in, d, park, gal, can, ...         0     0   \n",
       "4    ham  [sorry, man, my, stash, ran, dry, last, night,...         0     0   \n",
       "\n",
       "   bowls  pussy  misfits  messages  121  09066382422  ...  lovable  supreme  \\\n",
       "0      0      0        0         0    0            0  ...        0        0   \n",
       "1      0      0        0         0    0            0  ...        0        0   \n",
       "2      0      0        0         0    0            0  ...        0        0   \n",
       "3      0      0        0         0    0            0  ...        0        0   \n",
       "4      0      0        0         0    0            0  ...        0        0   \n",
       "\n",
       "   nig  grief  0125698789  bday  sec  atural  fantasy  phyhcmk  \n",
       "0    0      0           0     0    0       0        0        0  \n",
       "1    0      0           0     0    0       0        0        0  \n",
       "2    0      0           0     0    0       0        0        0  \n",
       "3    0      0           0     0    0       0        0        0  \n",
       "4    0      0           0     0    0       0        0        0  \n",
       "\n",
       "[5 rows x 7821 columns]"
      ],
      "text/html": "<div>\n<style scoped>\n    .dataframe tbody tr th:only-of-type {\n        vertical-align: middle;\n    }\n\n    .dataframe tbody tr th {\n        vertical-align: top;\n    }\n\n    .dataframe thead th {\n        text-align: right;\n    }\n</style>\n<table border=\"1\" class=\"dataframe\">\n  <thead>\n    <tr style=\"text-align: right;\">\n      <th></th>\n      <th>Status</th>\n      <th>Mensagem</th>\n      <th>gardener</th>\n      <th>dare</th>\n      <th>bowls</th>\n      <th>pussy</th>\n      <th>misfits</th>\n      <th>messages</th>\n      <th>121</th>\n      <th>09066382422</th>\n      <th>...</th>\n      <th>lovable</th>\n      <th>supreme</th>\n      <th>nig</th>\n      <th>grief</th>\n      <th>0125698789</th>\n      <th>bday</th>\n      <th>sec</th>\n      <th>atural</th>\n      <th>fantasy</th>\n      <th>phyhcmk</th>\n    </tr>\n  </thead>\n  <tbody>\n    <tr>\n      <th>0</th>\n      <td>ham</td>\n      <td>[lol, no, ouch, but, wish, i, d, stayed, out, ...</td>\n      <td>0</td>\n      <td>0</td>\n      <td>0</td>\n      <td>0</td>\n      <td>0</td>\n      <td>0</td>\n      <td>0</td>\n      <td>0</td>\n      <td>...</td>\n      <td>0</td>\n      <td>0</td>\n      <td>0</td>\n      <td>0</td>\n      <td>0</td>\n      <td>0</td>\n      <td>0</td>\n      <td>0</td>\n      <td>0</td>\n      <td>0</td>\n    </tr>\n    <tr>\n      <th>1</th>\n      <td>ham</td>\n      <td>[well, done, and, luv, ya, all]</td>\n      <td>0</td>\n      <td>0</td>\n      <td>0</td>\n      <td>0</td>\n      <td>0</td>\n      <td>0</td>\n      <td>0</td>\n      <td>0</td>\n      <td>...</td>\n      <td>0</td>\n      <td>0</td>\n      <td>0</td>\n      <td>0</td>\n      <td>0</td>\n      <td>0</td>\n      <td>0</td>\n      <td>0</td>\n      <td>0</td>\n      <td>0</td>\n    </tr>\n    <tr>\n      <th>2</th>\n      <td>ham</td>\n      <td>[me, 2, babe, i, feel, the, same, lets, just, ...</td>\n      <td>0</td>\n      <td>0</td>\n      <td>0</td>\n      <td>0</td>\n      <td>0</td>\n      <td>0</td>\n      <td>0</td>\n      <td>0</td>\n      <td>...</td>\n      <td>0</td>\n      <td>0</td>\n      <td>0</td>\n      <td>0</td>\n      <td>0</td>\n      <td>0</td>\n      <td>0</td>\n      <td>0</td>\n      <td>0</td>\n      <td>0</td>\n    </tr>\n    <tr>\n      <th>3</th>\n      <td>ham</td>\n      <td>[gal, n, boy, walking, in, d, park, gal, can, ...</td>\n      <td>0</td>\n      <td>0</td>\n      <td>0</td>\n      <td>0</td>\n      <td>0</td>\n      <td>0</td>\n      <td>0</td>\n      <td>0</td>\n      <td>...</td>\n      <td>0</td>\n      <td>0</td>\n      <td>0</td>\n      <td>0</td>\n      <td>0</td>\n      <td>0</td>\n      <td>0</td>\n      <td>0</td>\n      <td>0</td>\n      <td>0</td>\n    </tr>\n    <tr>\n      <th>4</th>\n      <td>ham</td>\n      <td>[sorry, man, my, stash, ran, dry, last, night,...</td>\n      <td>0</td>\n      <td>0</td>\n      <td>0</td>\n      <td>0</td>\n      <td>0</td>\n      <td>0</td>\n      <td>0</td>\n      <td>0</td>\n      <td>...</td>\n      <td>0</td>\n      <td>0</td>\n      <td>0</td>\n      <td>0</td>\n      <td>0</td>\n      <td>0</td>\n      <td>0</td>\n      <td>0</td>\n      <td>0</td>\n      <td>0</td>\n    </tr>\n  </tbody>\n</table>\n<p>5 rows × 7821 columns</p>\n</div>"
     },
     "metadata": {},
     "execution_count": 66
    }
   ],
   "source": [
    "trainGroup_processed = pd.concat([trainGroup, wordTable], axis=1)\n",
    "trainGroup_processed.head()\n",
    "\n",
    "# Juntamos a \"tabela\" do trainGroup com a da contagem de palavras para ficarmos com um data frame bonito e limpo que podemos usar para trainar o nosso modelo."
   ]
  },
  {
   "cell_type": "code",
   "execution_count": 67,
   "metadata": {},
   "outputs": [],
   "source": [
    "#Splice 2. Electric Splicealoo - Separamosas mensagens em 2 grupos - ham e spam - para podermos realizar o calculo\n",
    "ham_messages = trainGroup_processed[trainGroup_processed['Status'] == 'ham']\n",
    "spam_messages = trainGroup_processed[trainGroup_processed['Status'] == 'spam'] \n",
    "\n",
    "\n",
    "# Probabilidades\n",
    "p_spam = len(spam_messages) / len(trainGroup_processed)\n",
    "p_ham = len(ham_messages) / len(trainGroup_processed)\n",
    "\n",
    "#n do Spam é igual à soma todas as palavras de todas as mensagens Spam\n",
    "totalWordsPerSpam = spam_messages['Mensagem'].apply(len)\n",
    "n_spam = totalWordsPerSpam.sum()\n",
    "\n",
    "#n do Ham é igual à soma todas as palavras de todas as mensagens Ham\n",
    "totalWordsPerHam = ham_messages['Mensagem'].apply(len)\n",
    "n_ham = totalWordsPerHam.sum()\n",
    "\n",
    "# Auto explicativo\n",
    "n_vocabulary = len(palavras)\n",
    "\n",
    "# Laplace smoothing\n",
    "alpha = 1"
   ]
  },
  {
   "cell_type": "code",
   "execution_count": 68,
   "metadata": {},
   "outputs": [],
   "source": [
    "# Initiate parameters\n",
    "parameters_spam = {unique_word:0 for unique_word in palavras}\n",
    "parameters_ham = {unique_word:0 for unique_word in palavras}\n",
    "\n",
    "# Calculate parameters\n",
    "for word in palavras:\n",
    "   n_word_given_spam = spam_messages[word].sum() # spam_messages already defined\n",
    "   p_word_given_spam = (n_word_given_spam + alpha) / (n_spam + alpha*n_vocabulary)\n",
    "   parameters_spam[word] = p_word_given_spam\n",
    "\n",
    "   n_word_given_ham = ham_messages[word].sum() # ham_messages already defined\n",
    "   p_word_given_ham = (n_word_given_ham + alpha) / (n_ham + alpha*n_vocabulary)\n",
    "   parameters_ham[word] = p_word_given_ham"
   ]
  },
  {
   "cell_type": "code",
   "execution_count": 69,
   "metadata": {},
   "outputs": [],
   "source": [
    "import re\n",
    "\n",
    "def classify(message):\n",
    "   '''\n",
    "   message: a string\n",
    "   '''\n",
    "\n",
    "   message = re.sub('\\W', ' ', message)\n",
    "   message = message.lower().split()\n",
    "\n",
    "   p_spam_given_message = p_spam\n",
    "   p_ham_given_message = p_ham\n",
    "\n",
    "   for word in message:\n",
    "      if word in parameters_spam:\n",
    "         p_spam_given_message *= parameters_spam[word]\n",
    "\n",
    "      if word in parameters_ham: \n",
    "         p_ham_given_message *= parameters_ham[word]\n",
    "\n",
    "   print('P(Spam|message):', p_spam_given_message)\n",
    "   print('P(Ham|message):', p_ham_given_message)\n",
    "\n",
    "   if p_ham_given_message > p_spam_given_message:\n",
    "      print('Label: Ham')\n",
    "   elif p_ham_given_message < p_spam_given_message:\n",
    "      print('Label: Spam')\n",
    "   else:\n",
    "      print('Equal proabilities, have a human classify this!')"
   ]
  },
  {
   "cell_type": "code",
   "execution_count": 70,
   "metadata": {},
   "outputs": [
    {
     "output_type": "stream",
     "name": "stdout",
     "text": [
      "P(Spam|message): 1.0708607526070652e-25\nP(Ham|message): 3.248694784512615e-27\nLabel: Spam\n"
     ]
    }
   ],
   "source": [
    "classify('WINNER!! This is the secret code to unlock the money: C3421.')"
   ]
  },
  {
   "cell_type": "code",
   "execution_count": 71,
   "metadata": {},
   "outputs": [
    {
     "output_type": "stream",
     "name": "stdout",
     "text": [
      "P(Spam|message): 4.153907788533206e-25\nP(Ham|message): 1.304467526392837e-21\nLabel: Ham\n"
     ]
    }
   ],
   "source": [
    "classify(\"Sounds good, Tom, then see u there\")"
   ]
  },
  {
   "cell_type": "code",
   "execution_count": 72,
   "metadata": {},
   "outputs": [],
   "source": [
    "def classify_test_set(message):\n",
    "   '''\n",
    "   message: a string\n",
    "   '''\n",
    "\n",
    "   message = re.sub('\\W', ' ', message)\n",
    "   message = message.lower().split()\n",
    "\n",
    "   p_spam_given_message = p_spam\n",
    "   p_ham_given_message = p_ham\n",
    "\n",
    "   for word in message:\n",
    "      if word in parameters_spam:\n",
    "         p_spam_given_message *= parameters_spam[word]\n",
    "\n",
    "      if word in parameters_ham:\n",
    "         p_ham_given_message *= parameters_ham[word]\n",
    "\n",
    "   if p_ham_given_message > p_spam_given_message:\n",
    "      return 'ham'\n",
    "   elif p_spam_given_message > p_ham_given_message:\n",
    "      return 'spam'\n",
    "   else:\n",
    "      return 'needs human classification'"
   ]
  },
  {
   "cell_type": "code",
   "execution_count": 73,
   "metadata": {},
   "outputs": [
    {
     "output_type": "execute_result",
     "data": {
      "text/plain": [
       "  Status                                           Mensagem predicted\n",
       "0    ham            Nothing, i got msg frm tht unknown no..       ham\n",
       "1    ham  Yup it's at paragon... I havent decided whethe...       ham\n",
       "2    ham  Do u still have plumbers tape and a wrench we ...       ham\n",
       "3    ham  Babe, I'm answering you, can't you see me ? Ma...       ham\n",
       "4   spam  ou are guaranteed the latest Nokia Phone, a 40...      spam"
      ],
      "text/html": "<div>\n<style scoped>\n    .dataframe tbody tr th:only-of-type {\n        vertical-align: middle;\n    }\n\n    .dataframe tbody tr th {\n        vertical-align: top;\n    }\n\n    .dataframe thead th {\n        text-align: right;\n    }\n</style>\n<table border=\"1\" class=\"dataframe\">\n  <thead>\n    <tr style=\"text-align: right;\">\n      <th></th>\n      <th>Status</th>\n      <th>Mensagem</th>\n      <th>predicted</th>\n    </tr>\n  </thead>\n  <tbody>\n    <tr>\n      <th>0</th>\n      <td>ham</td>\n      <td>Nothing, i got msg frm tht unknown no..</td>\n      <td>ham</td>\n    </tr>\n    <tr>\n      <th>1</th>\n      <td>ham</td>\n      <td>Yup it's at paragon... I havent decided whethe...</td>\n      <td>ham</td>\n    </tr>\n    <tr>\n      <th>2</th>\n      <td>ham</td>\n      <td>Do u still have plumbers tape and a wrench we ...</td>\n      <td>ham</td>\n    </tr>\n    <tr>\n      <th>3</th>\n      <td>ham</td>\n      <td>Babe, I'm answering you, can't you see me ? Ma...</td>\n      <td>ham</td>\n    </tr>\n    <tr>\n      <th>4</th>\n      <td>spam</td>\n      <td>ou are guaranteed the latest Nokia Phone, a 40...</td>\n      <td>spam</td>\n    </tr>\n  </tbody>\n</table>\n</div>"
     },
     "metadata": {},
     "execution_count": 73
    }
   ],
   "source": [
    "test_set['predicted'] = test_set['Mensagem'].apply(classify_test_set)\n",
    "test_set.head()"
   ]
  },
  {
   "cell_type": "code",
   "execution_count": 74,
   "metadata": {},
   "outputs": [
    {
     "output_type": "stream",
     "name": "stdout",
     "text": [
      "Correct: 1103\nIncorrect: 11\nAccuracy: 0.9901256732495511\n"
     ]
    }
   ],
   "source": [
    "correct = 0\n",
    "total = test_set.shape[0]\n",
    "\n",
    "for row in test_set.iterrows():\n",
    "   row = row[1]\n",
    "   if row['Status'] == row['predicted']:\n",
    "      correct += 1\n",
    "\n",
    "print('Correct:', correct)\n",
    "print('Incorrect:', total - correct)\n",
    "print('Accuracy:', correct/total)"
   ]
  },
  {
   "cell_type": "code",
   "execution_count": 76,
   "metadata": {},
   "outputs": [
    {
     "output_type": "stream",
     "name": "stdout",
     "text": [
      "P(Spam|message): 5.044308548608223e-27\nP(Ham|message): 3.5798508608331393e-29\nLabel: Spam\n"
     ]
    }
   ],
   "source": [
    "classify(\"OMG you're the winner. Lucky prize Tao Bao\")"
   ]
  },
  {
   "cell_type": "code",
   "execution_count": null,
   "metadata": {},
   "outputs": [],
   "source": []
  }
 ]
}