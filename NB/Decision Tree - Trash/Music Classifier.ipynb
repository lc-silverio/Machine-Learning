{
 "cells": [
  {
   "cell_type": "code",
   "execution_count": 19,
   "metadata": {},
   "outputs": [
    {
     "data": {
      "text/plain": [
       "1.0"
      ]
     },
     "execution_count": 19,
     "metadata": {},
     "output_type": "execute_result"
    }
   ],
   "source": [
    "import pandas as pd ##Pandas é uma biblioteca para analise e manipulação de dados - aqui estamos a atribuir o \"nickname\" pd a pandas para simplificar a escrita\n",
    "from sklearn.tree import DecisionTreeClassifier ## importa libs do SciKit Learn\n",
    "#from sklearn.model_selection import train_test_split ##importa as funções de separação de data sets para teste e validação\n",
    "#from sklearn.metrics import accuracy_score ##importa funções para  medir a eficacia das previsões\n",
    "\n",
    "music_data = pd.read_csv('music.csv')##self explanatory - devolve um objecto data frame (é tipo uma tabela do excel)\n",
    "X = music_data.drop(columns=['genre']) ##input data set\n",
    "X ##print \n",
    "y = music_data['genre'] ##output data set\n",
    "y\n",
    "\n",
    "X_train, X_test, y_train, y_test = train_test_split(X, y, test_size=0.2)##definimos o tamanho do data set para testar (20%) e escolhemos dados aleatórios que preencham a quota definida para testar\n",
    "\n",
    "model = DecisionTreeClassifier() ##criamos um objecto que usa o algoritmo decision tree\n",
    "model.fit(X_train, y_train) ##introduzimos o input e output data sets\n",
    "\n",
    "predictions = model.predict(X_test) ##adicionamos 2 novos pares idade/genero e pedimos a predição do genero de musica que gostam\n",
    "predictions##print resultados\n",
    "\n",
    "score = accuracy_score(y_test, predictions) ##devolve a pontuação entre 0 e 1 em relação à previsão\n",
    "score"
   ]
  },
  {
   "cell_type": "code",
   "execution_count": null,
   "metadata": {},
   "outputs": [],
   "source": []
  },
  {
   "cell_type": "code",
   "execution_count": null,
   "metadata": {},
   "outputs": [],
   "source": []
  },
  {
   "cell_type": "code",
   "execution_count": null,
   "metadata": {},
   "outputs": [],
   "source": []
  },
  {
   "cell_type": "code",
   "execution_count": null,
   "metadata": {},
   "outputs": [],
   "source": []
  },
  {
   "cell_type": "code",
   "execution_count": null,
   "metadata": {},
   "outputs": [],
   "source": []
  },
  {
   "cell_type": "code",
   "execution_count": null,
   "metadata": {},
   "outputs": [],
   "source": []
  },
  {
   "cell_type": "code",
   "execution_count": null,
   "metadata": {},
   "outputs": [],
   "source": []
  },
  {
   "cell_type": "code",
   "execution_count": null,
   "metadata": {},
   "outputs": [],
   "source": []
  },
  {
   "cell_type": "code",
   "execution_count": null,
   "metadata": {},
   "outputs": [],
   "source": []
  }
 ],
 "metadata": {
  "kernelspec": {
   "display_name": "Python 3",
   "language": "python",
   "name": "python3"
  },
  "language_info": {
   "codemirror_mode": {
    "name": "ipython",
    "version": 3
   },
   "file_extension": ".py",
   "mimetype": "text/x-python",
   "name": "python",
   "nbconvert_exporter": "python",
   "pygments_lexer": "ipython3",
   "version": "3.8.5"
  }
 },
 "nbformat": 4,
 "nbformat_minor": 4
}
